{
  "nbformat": 4,
  "nbformat_minor": 0,
  "metadata": {
    "colab": {
      "name": "지니차트Top100.ipynb",
      "provenance": [],
      "authorship_tag": "ABX9TyPM9z/9l127caNl+RDTztyd",
      "include_colab_link": true
    },
    "kernelspec": {
      "name": "python3",
      "display_name": "Python 3"
    },
    "language_info": {
      "name": "python"
    }
  },
  "cells": [
    {
      "cell_type": "markdown",
      "metadata": {
        "id": "view-in-github",
        "colab_type": "text"
      },
      "source": [
        "<a href=\"https://colab.research.google.com/github/jhjh5823/Crawling/blob/master/%EC%A7%80%EB%8B%88%EC%B0%A8%ED%8A%B8Top100.ipynb\" target=\"_parent\"><img src=\"https://colab.research.google.com/assets/colab-badge.svg\" alt=\"Open In Colab\"/></a>"
      ]
    },
    {
      "cell_type": "markdown",
      "source": [
        "지니 Top 200차트"
      ],
      "metadata": {
        "id": "Ct5RBIUujpJW"
      }
    },
    {
      "cell_type": "code",
      "execution_count": 1,
      "metadata": {
        "id": "TNJLUjMgji4r"
      },
      "outputs": [],
      "source": [
        "import pandas as pd\n",
        "from bs4 import BeautifulSoup\n",
        "import requests"
      ]
    },
    {
      "cell_type": "code",
      "source": [
        "url = 'https://www.genie.co.kr/chart/top200'\n",
        "req = requests.get(url)"
      ],
      "metadata": {
        "id": "VqfH3jmxkCTB"
      },
      "execution_count": 2,
      "outputs": []
    },
    {
      "cell_type": "code",
      "source": [
        "#Chrome User-Agent\n",
        "header = {'User-Agent':'Mozilla/5.0 (Windows NT 10.0; Win64; x64) AppleWebKit/537.36 (KHTML, like Gecko) Chrome/100.0.4896.127 Safari/537.36'}\n",
        "req = requests.get(url, headers=header)\n",
        "soup = BeautifulSoup(req.text)"
      ],
      "metadata": {
        "id": "rUidcny4k5Zp"
      },
      "execution_count": 3,
      "outputs": []
    },
    {
      "cell_type": "markdown",
      "source": [
        "# 2. 찾으려고 하는 데이터의 도드 찾기"
      ],
      "metadata": {
        "id": "hMdxyOwVlunS"
      }
    },
    {
      "cell_type": "code",
      "source": [
        "trs = soup.select('tr.list')"
      ],
      "metadata": {
        "id": "aqp4-MuUmADy"
      },
      "execution_count": 4,
      "outputs": []
    },
    {
      "cell_type": "code",
      "source": [
        "#개발자 도구에서 찾아주는 selector\n",
        "trs = soup.select('#body-content > div.newest-list > div > table > tbody > tr')\n",
        "len(trs)\n",
        "#body-content > div.newest-list > div"
      ],
      "metadata": {
        "colab": {
          "base_uri": "https://localhost:8080/"
        },
        "id": "z1q0921kmD-e",
        "outputId": "88904472-da66-4b08-af41-e6f6162e0c75"
      },
      "execution_count": 5,
      "outputs": [
        {
          "output_type": "execute_result",
          "data": {
            "text/plain": [
              "50"
            ]
          },
          "metadata": {},
          "execution_count": 5
        }
      ]
    },
    {
      "cell_type": "code",
      "source": [
        "#body-content > div.newest-list > div > table > tbody"
      ],
      "metadata": {
        "id": "kO98PurjmEc1"
      },
      "execution_count": 6,
      "outputs": []
    },
    {
      "cell_type": "code",
      "source": [
        "tr = trs[12]"
      ],
      "metadata": {
        "id": "Pxp4yi-zneww"
      },
      "execution_count": 22,
      "outputs": []
    },
    {
      "cell_type": "code",
      "source": [
        "#rank\n",
        "tr.select_one('.number').get_text()"
      ],
      "metadata": {
        "colab": {
          "base_uri": "https://localhost:8080/",
          "height": 35
        },
        "id": "-Vq-aj2Inlji",
        "outputId": "f8c173b1-307f-489d-835e-e139fbf49f12"
      },
      "execution_count": 8,
      "outputs": [
        {
          "output_type": "execute_result",
          "data": {
            "text/plain": [
              "'13\\n                                        \\n                                    \\n유지\\n\\n'"
            ],
            "application/vnd.google.colaboratory.intrinsic+json": {
              "type": "string"
            }
          },
          "metadata": {},
          "execution_count": 8
        }
      ]
    },
    {
      "cell_type": "code",
      "source": [
        "try:\n",
        "  rank = int(tr.select_one('.number').get_text().split('\\n')[0])\n",
        "except:\n",
        "  rank=0"
      ],
      "metadata": {
        "id": "Vn74c3Q3n2r9"
      },
      "execution_count": 9,
      "outputs": []
    },
    {
      "cell_type": "code",
      "source": [
        "rank"
      ],
      "metadata": {
        "colab": {
          "base_uri": "https://localhost:8080/"
        },
        "id": "0hclQKhyoDyB",
        "outputId": "a72993c3-5f5d-47f5-c804-e0779c8cda9d"
      },
      "execution_count": 10,
      "outputs": [
        {
          "output_type": "execute_result",
          "data": {
            "text/plain": [
              "13"
            ]
          },
          "metadata": {},
          "execution_count": 10
        }
      ]
    },
    {
      "cell_type": "code",
      "source": [
        "#제목\n",
        "try : #일반적인 노래\n",
        "  title = tr.select_one('.title.ellipsis').string.strip()\n",
        "except: #19금 노래\n",
        "  title = tr.select_one('.title.ellipsis').get_text().split('\\n')[-1].strip()\n",
        "title"
      ],
      "metadata": {
        "colab": {
          "base_uri": "https://localhost:8080/",
          "height": 35
        },
        "id": "fy2jK-g3oEZz",
        "outputId": "44b600c4-0c78-44fb-91f1-067be6b7fceb"
      },
      "execution_count": 11,
      "outputs": [
        {
          "output_type": "execute_result",
          "data": {
            "text/plain": [
              "'Yet To Come'"
            ],
            "application/vnd.google.colaboratory.intrinsic+json": {
              "type": "string"
            }
          },
          "metadata": {},
          "execution_count": 11
        }
      ]
    },
    {
      "cell_type": "code",
      "source": [
        "#artist\n",
        "artist = tr.select_one('.artist.ellipsis').text.strip()\n",
        "artist"
      ],
      "metadata": {
        "colab": {
          "base_uri": "https://localhost:8080/",
          "height": 35
        },
        "id": "xanRzopUr-qn",
        "outputId": "b0e5c144-3f42-4478-c979-cfb48adc2aae"
      },
      "execution_count": 12,
      "outputs": [
        {
          "output_type": "execute_result",
          "data": {
            "text/plain": [
              "'방탄소년단'"
            ],
            "application/vnd.google.colaboratory.intrinsic+json": {
              "type": "string"
            }
          },
          "metadata": {},
          "execution_count": 12
        }
      ]
    },
    {
      "cell_type": "code",
      "source": [
        "#album\n",
        "album = tr.select_one('.albumtitle.ellipsis').text.strip()\n",
        "album"
      ],
      "metadata": {
        "colab": {
          "base_uri": "https://localhost:8080/",
          "height": 35
        },
        "id": "yDw46kBjsE1N",
        "outputId": "a4c3a89c-cccc-4713-fab5-965525270b5f"
      },
      "execution_count": 13,
      "outputs": [
        {
          "output_type": "execute_result",
          "data": {
            "text/plain": [
              "'Proof'"
            ],
            "application/vnd.google.colaboratory.intrinsic+json": {
              "type": "string"
            }
          },
          "metadata": {},
          "execution_count": 13
        }
      ]
    },
    {
      "cell_type": "markdown",
      "source": [
        "# 4. 한페이지 내에서 있는 정보 가져오기"
      ],
      "metadata": {
        "id": "gQ9YSV6BsSXe"
      }
    },
    {
      "cell_type": "code",
      "source": [
        "rank_list, title_list, artist_list, album_list = [], [], [], []\n",
        "\n",
        "for i, tr in enumerate(trs):\n",
        "  try:\n",
        "    rank = int(tr.select_one('.number').get_text().split('\\n')[0])\n",
        "  except:\n",
        "    rank=0\n",
        "\n",
        "  try : #일반적인 노래\n",
        "    title = tr.select_one('.title.ellipsis').string.strip()\n",
        "    \n",
        "\n",
        "  except: #19금 노래\n",
        "    title = tr.select_one('.title.ellipsis').get_text().split('\\n')[-1].strip()\n",
        "    \n",
        "  artist = tr.select_one('.artist.ellipsis').text.strip()\n",
        "  album = tr.select_one('.albumtitle.ellipsis').text.strip()\n",
        "  rank_list.append(rank)\n",
        "  title_list.append(title)\n",
        "  artist_list.append(artist)\n",
        "  album_list.append(album)\n"
      ],
      "metadata": {
        "id": "vb_z7JiQsLH0"
      },
      "execution_count": 14,
      "outputs": []
    },
    {
      "cell_type": "code",
      "source": [
        "lines = []\n",
        "\n",
        "for i, tr in enumerate(trs):\n",
        "  try:\n",
        "    rank = int(tr.select_one('.number').get_text().split('\\n')[0])\n",
        "  except:\n",
        "    rank=0\n",
        "\n",
        "  try : #일반적인 노래\n",
        "    title = tr.select_one('.title.ellipsis').string.strip()\n",
        "    \n",
        "  except: #19금 노래\n",
        "    title = tr.select_one('.title.ellipsis').get_text().split('\\n')[-1].strip()  \n",
        "  artist = tr.select_one('.artist.ellipsis').text.strip()\n",
        "  album = tr.select_one('.albumtitle.ellipsis').text.strip()\n",
        "  line={'순위':rank, '제목':title, '아티스트':artist, '앨범':album}\n",
        "  lines.append(line)"
      ],
      "metadata": {
        "id": "-qfslJQXuA9M"
      },
      "execution_count": 16,
      "outputs": []
    },
    {
      "cell_type": "markdown",
      "source": [
        "# 5. 데이터프레임 만들기"
      ],
      "metadata": {
        "id": "duyI4ISevZjW"
      }
    },
    {
      "cell_type": "code",
      "source": [
        "#df = pd.DataFrame(lines)\n",
        "df = pd.DataFrame({'순위' : rank_list, '제목':title_list, '아티스트':artist_list, '앨범':album_list})"
      ],
      "metadata": {
        "id": "9h_zDc2bvU29"
      },
      "execution_count": 23,
      "outputs": []
    },
    {
      "cell_type": "markdown",
      "source": [
        "# 6. 모든 페이지에 대해 가져오기"
      ],
      "metadata": {
        "id": "wpS6Dd4TwHXb"
      }
    },
    {
      "cell_type": "code",
      "source": [
        "lines = []\n",
        "for page in range(1, 5):\n",
        "  url =f'https://www.genie.co.kr/chart/top200?ditc=D&ymd=20220502&hh=15&rtm=Y&pg={page}'\n",
        "  header = {'User-Agent':'Mozilla/5.0 (Windows NT 10.0; Win64; x64) AppleWebKit/537.36 (KHTML, like Gecko) Chrome/100.0.4896.127 Safari/537.36'}\n",
        "  req = requests.get(url, headers=header)\n",
        "  soup = BeautifulSoup(req.text)\n",
        "  trs = soup.select('tr.list')\n",
        "\n",
        "  for i, tr in enumerate(trs):\n",
        "    try:\n",
        "      rank = int(tr.select_one('.number').get_text().split('\\n')[0])\n",
        "    except:\n",
        "      rank=0\n",
        "\n",
        "    try : #일반적인 노래\n",
        "      title = tr.select_one('.title.ellipsis').string.strip()\n",
        "      \n",
        "    except: #19금 노래\n",
        "      title = tr.select_one('.title.ellipsis').get_text().split('\\n')[-1].strip()  \n",
        "    artist = tr.select_one('.artist.ellipsis').text.strip()\n",
        "    album = tr.select_one('.albumtitle.ellipsis').text.strip()\n",
        "    line={'순위':rank, '제목':title, '아티스트':artist, '앨범':album}\n",
        "    lines.append(line)\n"
      ],
      "metadata": {
        "id": "qZuO0WA-wJeI"
      },
      "execution_count": 19,
      "outputs": []
    },
    {
      "cell_type": "code",
      "source": [
        "df3 = pd.DataFrame(lines)\n",
        "df3.tail(4)"
      ],
      "metadata": {
        "colab": {
          "base_uri": "https://localhost:8080/",
          "height": 175
        },
        "id": "T49GXaIgw_zU",
        "outputId": "054f5592-ea6f-4288-d65b-afeed919ef59"
      },
      "execution_count": 20,
      "outputs": [
        {
          "output_type": "execute_result",
          "data": {
            "text/plain": [
              "      순위                        제목                 아티스트                  앨범\n",
              "196  197                        DM               프로미스나인      Midnight Guest\n",
              "197  198  Kiss Me More (Feat. SZA)             Doja Cat        Kiss Me More\n",
              "198  199                    사랑의 인사           씨야 (SeeYa)  Lovely Sweet Heart\n",
              "199  200                        흰눈  먼데이 키즈 (Monday Kiz)                  흰눈"
            ],
            "text/html": [
              "\n",
              "  <div id=\"df-7dd47968-786f-448a-adad-8dccd83f2553\">\n",
              "    <div class=\"colab-df-container\">\n",
              "      <div>\n",
              "<style scoped>\n",
              "    .dataframe tbody tr th:only-of-type {\n",
              "        vertical-align: middle;\n",
              "    }\n",
              "\n",
              "    .dataframe tbody tr th {\n",
              "        vertical-align: top;\n",
              "    }\n",
              "\n",
              "    .dataframe thead th {\n",
              "        text-align: right;\n",
              "    }\n",
              "</style>\n",
              "<table border=\"1\" class=\"dataframe\">\n",
              "  <thead>\n",
              "    <tr style=\"text-align: right;\">\n",
              "      <th></th>\n",
              "      <th>순위</th>\n",
              "      <th>제목</th>\n",
              "      <th>아티스트</th>\n",
              "      <th>앨범</th>\n",
              "    </tr>\n",
              "  </thead>\n",
              "  <tbody>\n",
              "    <tr>\n",
              "      <th>196</th>\n",
              "      <td>197</td>\n",
              "      <td>DM</td>\n",
              "      <td>프로미스나인</td>\n",
              "      <td>Midnight Guest</td>\n",
              "    </tr>\n",
              "    <tr>\n",
              "      <th>197</th>\n",
              "      <td>198</td>\n",
              "      <td>Kiss Me More (Feat. SZA)</td>\n",
              "      <td>Doja Cat</td>\n",
              "      <td>Kiss Me More</td>\n",
              "    </tr>\n",
              "    <tr>\n",
              "      <th>198</th>\n",
              "      <td>199</td>\n",
              "      <td>사랑의 인사</td>\n",
              "      <td>씨야 (SeeYa)</td>\n",
              "      <td>Lovely Sweet Heart</td>\n",
              "    </tr>\n",
              "    <tr>\n",
              "      <th>199</th>\n",
              "      <td>200</td>\n",
              "      <td>흰눈</td>\n",
              "      <td>먼데이 키즈 (Monday Kiz)</td>\n",
              "      <td>흰눈</td>\n",
              "    </tr>\n",
              "  </tbody>\n",
              "</table>\n",
              "</div>\n",
              "      <button class=\"colab-df-convert\" onclick=\"convertToInteractive('df-7dd47968-786f-448a-adad-8dccd83f2553')\"\n",
              "              title=\"Convert this dataframe to an interactive table.\"\n",
              "              style=\"display:none;\">\n",
              "        \n",
              "  <svg xmlns=\"http://www.w3.org/2000/svg\" height=\"24px\"viewBox=\"0 0 24 24\"\n",
              "       width=\"24px\">\n",
              "    <path d=\"M0 0h24v24H0V0z\" fill=\"none\"/>\n",
              "    <path d=\"M18.56 5.44l.94 2.06.94-2.06 2.06-.94-2.06-.94-.94-2.06-.94 2.06-2.06.94zm-11 1L8.5 8.5l.94-2.06 2.06-.94-2.06-.94L8.5 2.5l-.94 2.06-2.06.94zm10 10l.94 2.06.94-2.06 2.06-.94-2.06-.94-.94-2.06-.94 2.06-2.06.94z\"/><path d=\"M17.41 7.96l-1.37-1.37c-.4-.4-.92-.59-1.43-.59-.52 0-1.04.2-1.43.59L10.3 9.45l-7.72 7.72c-.78.78-.78 2.05 0 2.83L4 21.41c.39.39.9.59 1.41.59.51 0 1.02-.2 1.41-.59l7.78-7.78 2.81-2.81c.8-.78.8-2.07 0-2.86zM5.41 20L4 18.59l7.72-7.72 1.47 1.35L5.41 20z\"/>\n",
              "  </svg>\n",
              "      </button>\n",
              "      \n",
              "  <style>\n",
              "    .colab-df-container {\n",
              "      display:flex;\n",
              "      flex-wrap:wrap;\n",
              "      gap: 12px;\n",
              "    }\n",
              "\n",
              "    .colab-df-convert {\n",
              "      background-color: #E8F0FE;\n",
              "      border: none;\n",
              "      border-radius: 50%;\n",
              "      cursor: pointer;\n",
              "      display: none;\n",
              "      fill: #1967D2;\n",
              "      height: 32px;\n",
              "      padding: 0 0 0 0;\n",
              "      width: 32px;\n",
              "    }\n",
              "\n",
              "    .colab-df-convert:hover {\n",
              "      background-color: #E2EBFA;\n",
              "      box-shadow: 0px 1px 2px rgba(60, 64, 67, 0.3), 0px 1px 3px 1px rgba(60, 64, 67, 0.15);\n",
              "      fill: #174EA6;\n",
              "    }\n",
              "\n",
              "    [theme=dark] .colab-df-convert {\n",
              "      background-color: #3B4455;\n",
              "      fill: #D2E3FC;\n",
              "    }\n",
              "\n",
              "    [theme=dark] .colab-df-convert:hover {\n",
              "      background-color: #434B5C;\n",
              "      box-shadow: 0px 1px 3px 1px rgba(0, 0, 0, 0.15);\n",
              "      filter: drop-shadow(0px 1px 2px rgba(0, 0, 0, 0.3));\n",
              "      fill: #FFFFFF;\n",
              "    }\n",
              "  </style>\n",
              "\n",
              "      <script>\n",
              "        const buttonEl =\n",
              "          document.querySelector('#df-7dd47968-786f-448a-adad-8dccd83f2553 button.colab-df-convert');\n",
              "        buttonEl.style.display =\n",
              "          google.colab.kernel.accessAllowed ? 'block' : 'none';\n",
              "\n",
              "        async function convertToInteractive(key) {\n",
              "          const element = document.querySelector('#df-7dd47968-786f-448a-adad-8dccd83f2553');\n",
              "          const dataTable =\n",
              "            await google.colab.kernel.invokeFunction('convertToInteractive',\n",
              "                                                     [key], {});\n",
              "          if (!dataTable) return;\n",
              "\n",
              "          const docLinkHtml = 'Like what you see? Visit the ' +\n",
              "            '<a target=\"_blank\" href=https://colab.research.google.com/notebooks/data_table.ipynb>data table notebook</a>'\n",
              "            + ' to learn more about interactive tables.';\n",
              "          element.innerHTML = '';\n",
              "          dataTable['output_type'] = 'display_data';\n",
              "          await google.colab.output.renderOutput(dataTable, element);\n",
              "          const docLink = document.createElement('div');\n",
              "          docLink.innerHTML = docLinkHtml;\n",
              "          element.appendChild(docLink);\n",
              "        }\n",
              "      </script>\n",
              "    </div>\n",
              "  </div>\n",
              "  "
            ]
          },
          "metadata": {},
          "execution_count": 20
        }
      ]
    },
    {
      "cell_type": "code",
      "source": [
        "df3.to_csv('지니차트 Top200.csv',index=False)"
      ],
      "metadata": {
        "id": "K2wrKrJqxNgo"
      },
      "execution_count": 21,
      "outputs": []
    }
  ]
}