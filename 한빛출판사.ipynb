{
  "nbformat": 4,
  "nbformat_minor": 0,
  "metadata": {
    "colab": {
      "name": "한빛출판사.ipynb",
      "provenance": [],
      "collapsed_sections": [],
      "authorship_tag": "ABX9TyOnm9BFDs6Dqcd6ig7qnCO9",
      "include_colab_link": true
    },
    "kernelspec": {
      "name": "python3",
      "display_name": "Python 3"
    },
    "language_info": {
      "name": "python"
    },
    "widgets": {
      "application/vnd.jupyter.widget-state+json": {
        "339bf671a5d24be48bd9d214d9c5f7d7": {
          "model_module": "@jupyter-widgets/controls",
          "model_name": "HBoxModel",
          "model_module_version": "1.5.0",
          "state": {
            "_dom_classes": [],
            "_model_module": "@jupyter-widgets/controls",
            "_model_module_version": "1.5.0",
            "_model_name": "HBoxModel",
            "_view_count": null,
            "_view_module": "@jupyter-widgets/controls",
            "_view_module_version": "1.5.0",
            "_view_name": "HBoxView",
            "box_style": "",
            "children": [
              "IPY_MODEL_83fdd7d8d0aa4177a3f03889ed710116",
              "IPY_MODEL_19246237200f49cea8ef0863ae871815",
              "IPY_MODEL_d5ff6d7c03b248ec94b3335640b5648e"
            ],
            "layout": "IPY_MODEL_774bbf23b1644e8dbb265bab0319fbd8"
          }
        },
        "83fdd7d8d0aa4177a3f03889ed710116": {
          "model_module": "@jupyter-widgets/controls",
          "model_name": "HTMLModel",
          "model_module_version": "1.5.0",
          "state": {
            "_dom_classes": [],
            "_model_module": "@jupyter-widgets/controls",
            "_model_module_version": "1.5.0",
            "_model_name": "HTMLModel",
            "_view_count": null,
            "_view_module": "@jupyter-widgets/controls",
            "_view_module_version": "1.5.0",
            "_view_name": "HTMLView",
            "description": "",
            "description_tooltip": null,
            "layout": "IPY_MODEL_0e11c3316fbf49c287bad1ec02d85459",
            "placeholder": "​",
            "style": "IPY_MODEL_c02dfa53876a46d6b1a0801ff1dc104e",
            "value": " 30%"
          }
        },
        "19246237200f49cea8ef0863ae871815": {
          "model_module": "@jupyter-widgets/controls",
          "model_name": "FloatProgressModel",
          "model_module_version": "1.5.0",
          "state": {
            "_dom_classes": [],
            "_model_module": "@jupyter-widgets/controls",
            "_model_module_version": "1.5.0",
            "_model_name": "FloatProgressModel",
            "_view_count": null,
            "_view_module": "@jupyter-widgets/controls",
            "_view_module_version": "1.5.0",
            "_view_name": "ProgressView",
            "bar_style": "",
            "description": "",
            "description_tooltip": null,
            "layout": "IPY_MODEL_83436c6f9bd041c6bf3962bc850958b9",
            "max": 10,
            "min": 0,
            "orientation": "horizontal",
            "style": "IPY_MODEL_ce67ee6ec7534f859cd45c289fe1ac12",
            "value": 3
          }
        },
        "d5ff6d7c03b248ec94b3335640b5648e": {
          "model_module": "@jupyter-widgets/controls",
          "model_name": "HTMLModel",
          "model_module_version": "1.5.0",
          "state": {
            "_dom_classes": [],
            "_model_module": "@jupyter-widgets/controls",
            "_model_module_version": "1.5.0",
            "_model_name": "HTMLModel",
            "_view_count": null,
            "_view_module": "@jupyter-widgets/controls",
            "_view_module_version": "1.5.0",
            "_view_name": "HTMLView",
            "description": "",
            "description_tooltip": null,
            "layout": "IPY_MODEL_d5cef8a9f0894309a18bc6b0d5dda340",
            "placeholder": "​",
            "style": "IPY_MODEL_fcd973cf25d54c059b161492aef4d030",
            "value": " 3/10 [01:56&lt;04:35, 39.41s/it]"
          }
        },
        "774bbf23b1644e8dbb265bab0319fbd8": {
          "model_module": "@jupyter-widgets/base",
          "model_name": "LayoutModel",
          "model_module_version": "1.2.0",
          "state": {
            "_model_module": "@jupyter-widgets/base",
            "_model_module_version": "1.2.0",
            "_model_name": "LayoutModel",
            "_view_count": null,
            "_view_module": "@jupyter-widgets/base",
            "_view_module_version": "1.2.0",
            "_view_name": "LayoutView",
            "align_content": null,
            "align_items": null,
            "align_self": null,
            "border": null,
            "bottom": null,
            "display": null,
            "flex": null,
            "flex_flow": null,
            "grid_area": null,
            "grid_auto_columns": null,
            "grid_auto_flow": null,
            "grid_auto_rows": null,
            "grid_column": null,
            "grid_gap": null,
            "grid_row": null,
            "grid_template_areas": null,
            "grid_template_columns": null,
            "grid_template_rows": null,
            "height": null,
            "justify_content": null,
            "justify_items": null,
            "left": null,
            "margin": null,
            "max_height": null,
            "max_width": null,
            "min_height": null,
            "min_width": null,
            "object_fit": null,
            "object_position": null,
            "order": null,
            "overflow": null,
            "overflow_x": null,
            "overflow_y": null,
            "padding": null,
            "right": null,
            "top": null,
            "visibility": null,
            "width": null
          }
        },
        "0e11c3316fbf49c287bad1ec02d85459": {
          "model_module": "@jupyter-widgets/base",
          "model_name": "LayoutModel",
          "model_module_version": "1.2.0",
          "state": {
            "_model_module": "@jupyter-widgets/base",
            "_model_module_version": "1.2.0",
            "_model_name": "LayoutModel",
            "_view_count": null,
            "_view_module": "@jupyter-widgets/base",
            "_view_module_version": "1.2.0",
            "_view_name": "LayoutView",
            "align_content": null,
            "align_items": null,
            "align_self": null,
            "border": null,
            "bottom": null,
            "display": null,
            "flex": null,
            "flex_flow": null,
            "grid_area": null,
            "grid_auto_columns": null,
            "grid_auto_flow": null,
            "grid_auto_rows": null,
            "grid_column": null,
            "grid_gap": null,
            "grid_row": null,
            "grid_template_areas": null,
            "grid_template_columns": null,
            "grid_template_rows": null,
            "height": null,
            "justify_content": null,
            "justify_items": null,
            "left": null,
            "margin": null,
            "max_height": null,
            "max_width": null,
            "min_height": null,
            "min_width": null,
            "object_fit": null,
            "object_position": null,
            "order": null,
            "overflow": null,
            "overflow_x": null,
            "overflow_y": null,
            "padding": null,
            "right": null,
            "top": null,
            "visibility": null,
            "width": null
          }
        },
        "c02dfa53876a46d6b1a0801ff1dc104e": {
          "model_module": "@jupyter-widgets/controls",
          "model_name": "DescriptionStyleModel",
          "model_module_version": "1.5.0",
          "state": {
            "_model_module": "@jupyter-widgets/controls",
            "_model_module_version": "1.5.0",
            "_model_name": "DescriptionStyleModel",
            "_view_count": null,
            "_view_module": "@jupyter-widgets/base",
            "_view_module_version": "1.2.0",
            "_view_name": "StyleView",
            "description_width": ""
          }
        },
        "83436c6f9bd041c6bf3962bc850958b9": {
          "model_module": "@jupyter-widgets/base",
          "model_name": "LayoutModel",
          "model_module_version": "1.2.0",
          "state": {
            "_model_module": "@jupyter-widgets/base",
            "_model_module_version": "1.2.0",
            "_model_name": "LayoutModel",
            "_view_count": null,
            "_view_module": "@jupyter-widgets/base",
            "_view_module_version": "1.2.0",
            "_view_name": "LayoutView",
            "align_content": null,
            "align_items": null,
            "align_self": null,
            "border": null,
            "bottom": null,
            "display": null,
            "flex": null,
            "flex_flow": null,
            "grid_area": null,
            "grid_auto_columns": null,
            "grid_auto_flow": null,
            "grid_auto_rows": null,
            "grid_column": null,
            "grid_gap": null,
            "grid_row": null,
            "grid_template_areas": null,
            "grid_template_columns": null,
            "grid_template_rows": null,
            "height": null,
            "justify_content": null,
            "justify_items": null,
            "left": null,
            "margin": null,
            "max_height": null,
            "max_width": null,
            "min_height": null,
            "min_width": null,
            "object_fit": null,
            "object_position": null,
            "order": null,
            "overflow": null,
            "overflow_x": null,
            "overflow_y": null,
            "padding": null,
            "right": null,
            "top": null,
            "visibility": null,
            "width": null
          }
        },
        "ce67ee6ec7534f859cd45c289fe1ac12": {
          "model_module": "@jupyter-widgets/controls",
          "model_name": "ProgressStyleModel",
          "model_module_version": "1.5.0",
          "state": {
            "_model_module": "@jupyter-widgets/controls",
            "_model_module_version": "1.5.0",
            "_model_name": "ProgressStyleModel",
            "_view_count": null,
            "_view_module": "@jupyter-widgets/base",
            "_view_module_version": "1.2.0",
            "_view_name": "StyleView",
            "bar_color": null,
            "description_width": ""
          }
        },
        "d5cef8a9f0894309a18bc6b0d5dda340": {
          "model_module": "@jupyter-widgets/base",
          "model_name": "LayoutModel",
          "model_module_version": "1.2.0",
          "state": {
            "_model_module": "@jupyter-widgets/base",
            "_model_module_version": "1.2.0",
            "_model_name": "LayoutModel",
            "_view_count": null,
            "_view_module": "@jupyter-widgets/base",
            "_view_module_version": "1.2.0",
            "_view_name": "LayoutView",
            "align_content": null,
            "align_items": null,
            "align_self": null,
            "border": null,
            "bottom": null,
            "display": null,
            "flex": null,
            "flex_flow": null,
            "grid_area": null,
            "grid_auto_columns": null,
            "grid_auto_flow": null,
            "grid_auto_rows": null,
            "grid_column": null,
            "grid_gap": null,
            "grid_row": null,
            "grid_template_areas": null,
            "grid_template_columns": null,
            "grid_template_rows": null,
            "height": null,
            "justify_content": null,
            "justify_items": null,
            "left": null,
            "margin": null,
            "max_height": null,
            "max_width": null,
            "min_height": null,
            "min_width": null,
            "object_fit": null,
            "object_position": null,
            "order": null,
            "overflow": null,
            "overflow_x": null,
            "overflow_y": null,
            "padding": null,
            "right": null,
            "top": null,
            "visibility": null,
            "width": null
          }
        },
        "fcd973cf25d54c059b161492aef4d030": {
          "model_module": "@jupyter-widgets/controls",
          "model_name": "DescriptionStyleModel",
          "model_module_version": "1.5.0",
          "state": {
            "_model_module": "@jupyter-widgets/controls",
            "_model_module_version": "1.5.0",
            "_model_name": "DescriptionStyleModel",
            "_view_count": null,
            "_view_module": "@jupyter-widgets/base",
            "_view_module_version": "1.2.0",
            "_view_name": "StyleView",
            "description_width": ""
          }
        }
      }
    }
  },
  "cells": [
    {
      "cell_type": "markdown",
      "metadata": {
        "id": "view-in-github",
        "colab_type": "text"
      },
      "source": [
        "<a href=\"https://colab.research.google.com/github/jhjh5823/Crawling/blob/master/%ED%95%9C%EB%B9%9B%EC%B6%9C%ED%8C%90%EC%82%AC.ipynb\" target=\"_parent\"><img src=\"https://colab.research.google.com/assets/colab-badge.svg\" alt=\"Open In Colab\"/></a>"
      ]
    },
    {
      "cell_type": "code",
      "source": [
        "import pandas as pd\n",
        "import requests\n",
        "from bs4 import BeautifulSoup\n",
        "import re\n",
        "from tqdm.notebook import tqdm"
      ],
      "metadata": {
        "id": "MF8kwbPIWnD_"
      },
      "execution_count": 1,
      "outputs": []
    },
    {
      "cell_type": "code",
      "source": [
        "base_url='https://www.hanbit.co.kr/'\n",
        "sub_url='store/books/new_book_list.html'\n",
        "url = base_url+sub_url\n",
        "res = requests.get(url)\n",
        "soup = BeautifulSoup(res.text,'html.parser')"
      ],
      "metadata": {
        "id": "ZxZuVpzNW9Ou"
      },
      "execution_count": 2,
      "outputs": []
    },
    {
      "cell_type": "code",
      "source": [
        "lis = soup.select('.sub_book_list')"
      ],
      "metadata": {
        "id": "yoyJVBjeXZs-"
      },
      "execution_count": 3,
      "outputs": []
    },
    {
      "cell_type": "code",
      "source": [
        "li = lis[0]\n",
        "href = li.find('a')['href']"
      ],
      "metadata": {
        "id": "NxZLrZBIYmX4"
      },
      "execution_count": 4,
      "outputs": []
    },
    {
      "cell_type": "markdown",
      "source": [
        "* sub page에서 정보를 가져옴"
      ],
      "metadata": {
        "id": "e2UV1ALIZaQa"
      }
    },
    {
      "cell_type": "code",
      "source": [
        "res = requests.get(base_url + href)\n",
        "book_soup = BeautifulSoup(res.text, 'html.parser')"
      ],
      "metadata": {
        "id": "M-PjlOyuY28g"
      },
      "execution_count": 5,
      "outputs": []
    },
    {
      "cell_type": "markdown",
      "source": [
        "* 제목 가져오기"
      ],
      "metadata": {
        "id": "HdY6LWjZaOP2"
      }
    },
    {
      "cell_type": "code",
      "source": [
        "info = book_soup.select_one('.store_product_info_box')\n",
        "title = info.find('h3').string\n",
        "title"
      ],
      "metadata": {
        "colab": {
          "base_uri": "https://localhost:8080/",
          "height": 35
        },
        "id": "MHqRGrrgZ8YB",
        "outputId": "8dfd4106-e3c2-4437-acd1-b05857644528"
      },
      "execution_count": 6,
      "outputs": [
        {
          "output_type": "execute_result",
          "data": {
            "text/plain": [
              "'구글 앱스 스크립트 완벽 가이드'"
            ],
            "application/vnd.google.colaboratory.intrinsic+json": {
              "type": "string"
            }
          },
          "metadata": {},
          "execution_count": 6
        }
      ]
    },
    {
      "cell_type": "code",
      "source": [
        "book_list = info.select('.info_list > li')\n",
        "author = book_list[0].find('span').get_text().strip()\n",
        "author"
      ],
      "metadata": {
        "colab": {
          "base_uri": "https://localhost:8080/",
          "height": 35
        },
        "id": "vk7f1-XtanMV",
        "outputId": "e9223318-b972-45a1-e743-35cc602b3a1e"
      },
      "execution_count": 7,
      "outputs": [
        {
          "output_type": "execute_result",
          "data": {
            "text/plain": [
              "'다카하시 노리아키'"
            ],
            "application/vnd.google.colaboratory.intrinsic+json": {
              "type": "string"
            }
          },
          "metadata": {},
          "execution_count": 7
        }
      ]
    },
    {
      "cell_type": "code",
      "source": [
        "if len(book_list) >= 5:\n",
        "  translator = book_list[1].find('span').get_text().strip().split(',')[0]\n",
        "else:\n",
        "  translator = book_list[1].find('span').get_text().strip()\n",
        "\n",
        "translator"
      ],
      "metadata": {
        "colab": {
          "base_uri": "https://localhost:8080/",
          "height": 35
        },
        "id": "DRx9ZjoMbCjo",
        "outputId": "cdb3acae-a9c0-4bdd-bb64-078186664b2f"
      },
      "execution_count": 8,
      "outputs": [
        {
          "output_type": "execute_result",
          "data": {
            "text/plain": [
              "'김모세'"
            ],
            "application/vnd.google.colaboratory.intrinsic+json": {
              "type": "string"
            }
          },
          "metadata": {},
          "execution_count": 8
        }
      ]
    },
    {
      "cell_type": "markdown",
      "source": [
        "* 날짜"
      ],
      "metadata": {
        "id": "u1KSoEXgcvRv"
      }
    },
    {
      "cell_type": "code",
      "source": [
        "date = book_list[2].find('span').get_text().strip()\n",
        "date\n",
        "book_list"
      ],
      "metadata": {
        "colab": {
          "base_uri": "https://localhost:8080/"
        },
        "id": "tgG7aZbpcH4Y",
        "outputId": "4e8a5332-f522-4d1f-d71f-f0243ba4251a"
      },
      "execution_count": 9,
      "outputs": [
        {
          "output_type": "execute_result",
          "data": {
            "text/plain": [
              "[<li><strong>저자 : </strong><span>다카하시 노리아키 </span></li>,\n",
              " <li><strong>번역 : </strong><span>김모세 </span></li>,\n",
              " <li><strong>출간 : </strong><span>2022-07-05</span></li>,\n",
              " <li><strong>페이지 : </strong><span>696 쪽</span></li>,\n",
              " <li><strong>ISBN : </strong><span>9791169210010</span></li>,\n",
              " <li><strong>물류코드 :</strong><span>11001</span></li>]"
            ]
          },
          "metadata": {},
          "execution_count": 9
        }
      ]
    },
    {
      "cell_type": "markdown",
      "source": [
        "* 페이지"
      ],
      "metadata": {
        "id": "IGb2O1gBctz4"
      }
    },
    {
      "cell_type": "code",
      "source": [
        "page = book_list[3].find('span').get_text().strip().split()[0]\n",
        "page = int(page)\n",
        "page"
      ],
      "metadata": {
        "colab": {
          "base_uri": "https://localhost:8080/"
        },
        "id": "9qsC5kl_coEu",
        "outputId": "ae3cba45-967b-46fd-a496-84a605fe162f"
      },
      "execution_count": 10,
      "outputs": [
        {
          "output_type": "execute_result",
          "data": {
            "text/plain": [
              "696"
            ]
          },
          "metadata": {},
          "execution_count": 10
        }
      ]
    },
    {
      "cell_type": "code",
      "source": [
        "payments = book_soup.select_one('.payment_box.curr').find_all('p')\n",
        "sales = payments[1].select_one('.pbr').get_text().split('(')[0]\n",
        "sales = int(re.sub('[^0-9]', '', sales))"
      ],
      "metadata": {
        "id": "JFYfbTUYc-46"
      },
      "execution_count": 11,
      "outputs": []
    },
    {
      "cell_type": "code",
      "source": [
        "lines = []\n",
        "for page in tqdm(range(1,11)):\n",
        "  url = f'{base_url}{sub_url}?page={page}'\n",
        "  res = requests.get(url)\n",
        "  soup = BeautifulSoup(res.text, 'html.parser')\n",
        "  lis = soup.select('.sub_book_list')\n",
        "\n",
        "  for li in lis:\n",
        "      book_url = li.find('a')['href']\n",
        "      res = requests.get(base_url + book_url)\n",
        "      book_soup = BeautifulSoup(res.text, 'html.parser')\n",
        "\n",
        "      info = book_soup.select_one('.store_product_info_box')\n",
        "      title = info.find('h3').string\n",
        "      book_lis = info.select('.info_list > li')\n",
        "      author = book_lis[0].find('span').get_text().strip()\n",
        "      if len(book_lis) == 5:\n",
        "          translator = '-'\n",
        "      else:\n",
        "          translator = book_lis[1].find('span').get_text().strip()\n",
        "      date = book_lis[-4].find('span').get_text().strip()\n",
        "      page = book_lis[-3].find('span').get_text().strip().split()[0]\n",
        "      \n",
        "      payments = book_soup.select_one('.payment_box.curr').find_all('p')\n",
        "      sales = payments[1].select_one('.pbr').get_text().split('(')[0]\n",
        "      sales = int(re.sub('[^0-9]','',sales))\n",
        "\n",
        "      lines.append([title,author,translator,date,page,sales])"
      ],
      "metadata": {
        "colab": {
          "base_uri": "https://localhost:8080/",
          "height": 49,
          "referenced_widgets": [
            "339bf671a5d24be48bd9d214d9c5f7d7",
            "83fdd7d8d0aa4177a3f03889ed710116",
            "19246237200f49cea8ef0863ae871815",
            "d5ff6d7c03b248ec94b3335640b5648e",
            "774bbf23b1644e8dbb265bab0319fbd8",
            "0e11c3316fbf49c287bad1ec02d85459",
            "c02dfa53876a46d6b1a0801ff1dc104e",
            "83436c6f9bd041c6bf3962bc850958b9",
            "ce67ee6ec7534f859cd45c289fe1ac12",
            "d5cef8a9f0894309a18bc6b0d5dda340",
            "fcd973cf25d54c059b161492aef4d030"
          ]
        },
        "id": "giNw1OxieYqH",
        "outputId": "d8c8bb79-85a6-4ffb-ccab-852c7762776e"
      },
      "execution_count": null,
      "outputs": [
        {
          "output_type": "display_data",
          "data": {
            "text/plain": [
              "  0%|          | 0/10 [00:00<?, ?it/s]"
            ],
            "application/vnd.jupyter.widget-view+json": {
              "version_major": 2,
              "version_minor": 0,
              "model_id": "339bf671a5d24be48bd9d214d9c5f7d7"
            }
          },
          "metadata": {}
        }
      ]
    },
    {
      "cell_type": "code",
      "source": [
        "df = pd.DataFrame(lines, columns=['제목','저자','번역','출간일','페이지','판매가'])\n",
        "df"
      ],
      "metadata": {
        "id": "RfHmj8pqlq1-"
      },
      "execution_count": null,
      "outputs": []
    },
    {
      "cell_type": "code",
      "source": [
        "df.to_csv('한빛신규도서.csv', index=False)"
      ],
      "metadata": {
        "id": "nUY9yASAmmUx"
      },
      "execution_count": null,
      "outputs": []
    }
  ]
}