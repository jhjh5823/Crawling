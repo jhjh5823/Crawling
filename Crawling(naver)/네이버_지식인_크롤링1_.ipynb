{
  "nbformat": 4,
  "nbformat_minor": 0,
  "metadata": {
    "colab": {
      "name": "네이버 지식인 크롤링1 .ipynb",
      "provenance": []
    },
    "kernelspec": {
      "name": "python3",
      "display_name": "Python 3"
    },
    "language_info": {
      "name": "python"
    }
  },
  "cells": [
    {
      "cell_type": "markdown",
      "source": [
        "#네이버 지식인 Crawling\n",
        " - 네이버 지식인에서 여자친구 선물을 검색한 후 데이터 가져오기 "
      ],
      "metadata": {
        "id": "6qTLbmQKilG1"
      }
    },
    {
      "cell_type": "code",
      "execution_count": null,
      "metadata": {
        "id": "D-xMZ_fU6DqW"
      },
      "outputs": [],
      "source": [
        "!apt-get install -y fonts-nanum > /dev/null\n",
        "!fc-cache -fv > /dev/null\n",
        "!rm -rf ~/.cache/matplotlib\n",
        "# Colab 런타임 다시 시작"
      ]
    },
    {
      "cell_type": "code",
      "source": [
        "# selenium설치\n",
        "!apt-get update > /dev/null 2>&1\n",
        "!pip install selenium > /dev/null 2>&1\n",
        "!apt install chromium-chromedriver > /dev/null 2>&1"
      ],
      "metadata": {
        "id": "xhUULEHL8BXX"
      },
      "execution_count": null,
      "outputs": []
    },
    {
      "cell_type": "code",
      "source": [
        "from selenium import webdriver\n",
        "from selenium.webdriver.common.keys import Keys\n",
        "from selenium.webdriver.common.by import By\n",
        "import time\n",
        "import pandas as pd\n",
        "from tqdm.notebook import tqdm\n",
        "from urllib.parse import quote\n",
        "from bs4 import BeautifulSoup\n",
        "\n",
        "options = webdriver.ChromeOptions()\n",
        "options.add_argument('--headless')   # 화면없이 실행\n",
        "options.add_argument('--no-sandbox')\n",
        "options.add_argument(\"--single-process\")\n",
        "options.add_argument(\"--disable-dev-shm-usage\")\n",
        "driver = webdriver.Chrome('chromedriver', options=options)\n",
        "# chromedriver = 'chromedriver.exe'\n",
        "# driver = webdriver.Chrome(chromedriver)"
      ],
      "metadata": {
        "id": "jzZvyfkg6k8J"
      },
      "execution_count": null,
      "outputs": []
    },
    {
      "cell_type": "code",
      "source": [
        "base_url = 'https://kin.naver.com/search/list.naver?query='\n",
        "url = base_url+quote('여친선물')\n",
        "driver.get(url)\n",
        "soup = BeautifulSoup(driver.page_source, 'html.parser')"
      ],
      "metadata": {
        "id": "ILIZF5PR7ihC"
      },
      "execution_count": null,
      "outputs": []
    },
    {
      "cell_type": "code",
      "source": [
        "lis = soup.select(\"ul.basic1 > li\")\n",
        "len(lis)"
      ],
      "metadata": {
        "colab": {
          "base_uri": "https://localhost:8080/"
        },
        "id": "ljlOpiIY8mgo",
        "outputId": "fcb47429-9b0c-4301-9d86-ceeb8030d55f"
      },
      "execution_count": null,
      "outputs": [
        {
          "output_type": "execute_result",
          "data": {
            "text/plain": [
              "10"
            ]
          },
          "metadata": {},
          "execution_count": 40
        }
      ]
    },
    {
      "cell_type": "code",
      "source": [
        "li = lis[0]\n",
        "sub_url = li.select_one('a._searchListTitleAnchor')['href']\n",
        "sub_url"
      ],
      "metadata": {
        "colab": {
          "base_uri": "https://localhost:8080/",
          "height": 35
        },
        "id": "vN6GAvFz8ubQ",
        "outputId": "e3168bb8-0578-457f-80ff-a9babcb2d72f"
      },
      "execution_count": null,
      "outputs": [
        {
          "output_type": "execute_result",
          "data": {
            "text/plain": [
              "'https://kin.naver.com/qna/detail.naver?d1id=8&dirId=80101&docId=395035694&qb=7Jes7Lmc7ISg66y8&enc=utf8&section=kin&rank=1&search_sort=0&spq=0'"
            ],
            "application/vnd.google.colaboratory.intrinsic+json": {
              "type": "string"
            }
          },
          "metadata": {},
          "execution_count": 41
        }
      ]
    },
    {
      "cell_type": "code",
      "source": [
        "driver.get(sub_url)\n",
        "time.sleep(2)"
      ],
      "metadata": {
        "id": "4kIifDBC8xwg"
      },
      "execution_count": null,
      "outputs": []
    },
    {
      "cell_type": "code",
      "source": [
        "count=int(driver.find_element_by_css_selector('._answerCount.num').text)\n",
        "answer_page=(count-1)//5\n",
        "print(count,answer_page)"
      ],
      "metadata": {
        "colab": {
          "base_uri": "https://localhost:8080/"
        },
        "id": "rB9z_B3R9PnY",
        "outputId": "0687d815-fabc-463f-a8d8-b4f0f13aaf45"
      },
      "execution_count": null,
      "outputs": [
        {
          "output_type": "stream",
          "name": "stdout",
          "text": [
            "8 1\n"
          ]
        },
        {
          "output_type": "stream",
          "name": "stderr",
          "text": [
            "/usr/local/lib/python3.7/dist-packages/ipykernel_launcher.py:1: DeprecationWarning: find_element_by_css_selector is deprecated. Please use find_element(by=By.CSS_SELECTOR, value=css_selector) instead\n",
            "  \"\"\"Entry point for launching an IPython kernel.\n"
          ]
        }
      ]
    },
    {
      "cell_type": "code",
      "source": [
        "for i in range(answer_page):\n",
        "  driver.find_element_by_id(\"nextPageButton\").click()\n",
        "  time.sleep(2)"
      ],
      "metadata": {
        "colab": {
          "base_uri": "https://localhost:8080/"
        },
        "id": "rFHhhEjy_yuf",
        "outputId": "913b727f-c8dc-4efc-d389-88e81ab15c4e"
      },
      "execution_count": null,
      "outputs": [
        {
          "output_type": "stream",
          "name": "stderr",
          "text": [
            "/usr/local/lib/python3.7/dist-packages/ipykernel_launcher.py:2: DeprecationWarning: find_element_by_* commands are deprecated. Please use find_element() instead\n",
            "  \n"
          ]
        }
      ]
    },
    {
      "cell_type": "code",
      "source": [
        "soup = BeautifulSoup(driver.page_source, 'html.parser')\n",
        "divs = soup.select(\"div.answer-content__item._contentWrap._answer\")\n",
        "len(divs)"
      ],
      "metadata": {
        "colab": {
          "base_uri": "https://localhost:8080/"
        },
        "id": "gItNXJEeAIUn",
        "outputId": "bec1febe-bdd5-4f69-94c1-cc8580f44134"
      },
      "execution_count": null,
      "outputs": [
        {
          "output_type": "execute_result",
          "data": {
            "text/plain": [
              "8"
            ]
          },
          "metadata": {},
          "execution_count": 45
        }
      ]
    },
    {
      "cell_type": "code",
      "source": [
        "div=divs[0]\n",
        "ps=div.select('p.se-text-paragraph')\n",
        "for p in ps:\n",
        "  print(p.get_text())"
      ],
      "metadata": {
        "id": "GbYVQauOA4CY"
      },
      "execution_count": null,
      "outputs": []
    },
    {
      "cell_type": "code",
      "source": [
        "divs[6].select('p.se-texxt-paragraph')"
      ],
      "metadata": {
        "id": "4PknNmfxCNrv"
      },
      "execution_count": null,
      "outputs": []
    },
    {
      "cell_type": "code",
      "source": [
        "driver.back()\n",
        "time.sleep(2)"
      ],
      "metadata": {
        "id": "GaDb3Ny-CtBX"
      },
      "execution_count": null,
      "outputs": []
    },
    {
      "cell_type": "code",
      "source": [
        "answer_list = []\n",
        "\n",
        "for page in tqdm(range(1,11)):\n",
        "    url = f'{base_url}{quote(\"여친선물\")}&page={page}'\n",
        "    driver.get(url)\n",
        "    time.sleep(2)\n",
        "\n",
        "    html = driver.page_source\n",
        "    soup = BeautifulSoup(html, \"html.parser\")\n",
        "    lis = soup.select('ul.basic1 > li')\n",
        "\n",
        "    for li in lis:\n",
        "      sub_url = li.select_one('a._searchListTitleAnchor')['href']\n",
        "      driver.get(sub_url)\n",
        "      time.sleep(2)\n",
        "\n",
        "      count=int(driver.find_element_by_css_selector('._answerCount.num').text)\n",
        "      answer_page=(count-1)//5\n",
        "      print(count, end=', ')\n",
        "\n",
        "      for i in range(answer_page):\n",
        "        driver.find_element_by_id(\"nextPageButton\").click()\n",
        "        time.sleep(2)\n",
        "      \n",
        "      soup = BeautifulSoup(driver.page_source, 'html.parser')\n",
        "      divs = soup.select(\"div.answer-content__item._contentWrap._answer\")\n",
        "      print(len(divs))\n",
        "\n",
        "      for div in divs:\n",
        "        ps = div.select('p.se-text-paragraph')\n",
        "        paragraph =''\n",
        "        for p in ps:\n",
        "          text = p.get_text()\n",
        "          if text == ' ' or text == '\\u2200b':\n",
        "            continue\n",
        "          paragraph += text + '\\n'\n",
        "        answer_list.append(paragraph)\n",
        "\n",
        "      driver.back()\n",
        "      time.sleep(2)"
      ],
      "metadata": {
        "id": "3jagY1_LC1nX"
      },
      "execution_count": null,
      "outputs": []
    },
    {
      "cell_type": "code",
      "source": [
        "answer_list[100]"
      ],
      "metadata": {
        "id": "sYfhY-a7M-KN"
      },
      "execution_count": null,
      "outputs": []
    },
    {
      "cell_type": "code",
      "source": [
        "with open('new_gift.txt', 'w', encoding='utf-8') as fp:\n",
        "  for answer in answer_list:\n",
        "    fp.write(answer+'\\n')"
      ],
      "metadata": {
        "id": "xnnsc1NyNAku"
      },
      "execution_count": null,
      "outputs": []
    }
  ]
}