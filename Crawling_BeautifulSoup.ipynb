{
  "nbformat": 4,
  "nbformat_minor": 0,
  "metadata": {
    "colab": {
      "name": "Crawling - BeautifulSoup.ipynb",
      "provenance": [],
      "mount_file_id": "1aoeocx0HyA5U1xDP8gT-LVOiM429lmgQ",
      "authorship_tag": "ABX9TyPM/XPcrBB0E9CftNp7+A/W",
      "include_colab_link": true
    },
    "kernelspec": {
      "name": "python3",
      "display_name": "Python 3"
    },
    "language_info": {
      "name": "python"
    }
  },
  "cells": [
    {
      "cell_type": "markdown",
      "metadata": {
        "id": "view-in-github",
        "colab_type": "text"
      },
      "source": [
        "<a href=\"https://colab.research.google.com/github/jhjh5823/Crawling/blob/master/Crawling_BeautifulSoup.ipynb\" target=\"_parent\"><img src=\"https://colab.research.google.com/assets/colab-badge.svg\" alt=\"Open In Colab\"/></a>"
      ]
    },
    {
      "cell_type": "markdown",
      "source": [
        "# Crawling - BeautifulSoup"
      ],
      "metadata": {
        "id": "NF2julYGRjJZ"
      }
    },
    {
      "cell_type": "code",
      "execution_count": null,
      "metadata": {
        "id": "N7qynJA-Qfqq"
      },
      "outputs": [],
      "source": [
        "from bs4 import BeautifulSoup"
      ]
    },
    {
      "cell_type": "code",
      "source": [
        "with open('00.Example.html') as file:\n",
        "  soup = BeautifulSoup(file, 'html.parser')\n",
        "\n",
        "soup"
      ],
      "metadata": {
        "id": "iM77avYrRokW"
      },
      "execution_count": null,
      "outputs": []
    },
    {
      "cell_type": "markdown",
      "source": [
        "* find() : 해당 조건에 맞는 하나의 태그를 가져옴 중복시에는 첫번째 것만 가져온다."
      ],
      "metadata": {
        "id": "fwARJAjnSMI5"
      }
    },
    {
      "cell_type": "code",
      "source": [
        "soup.find('p')"
      ],
      "metadata": {
        "colab": {
          "base_uri": "https://localhost:8080/"
        },
        "id": "ZSLgSLBHR5Nz",
        "outputId": "a58fdb99-e9bd-4faf-dfda-1be1bef9e5f1"
      },
      "execution_count": null,
      "outputs": [
        {
          "output_type": "execute_result",
          "data": {
            "text/plain": [
              "<p>a</p>"
            ]
          },
          "metadata": {},
          "execution_count": 5
        }
      ]
    },
    {
      "cell_type": "code",
      "source": [
        "soup.find('div')"
      ],
      "metadata": {
        "colab": {
          "base_uri": "https://localhost:8080/"
        },
        "id": "soD5u91_Sduw",
        "outputId": "d733710a-1368-4f7b-eea3-e689ef9f410a"
      },
      "execution_count": null,
      "outputs": [
        {
          "output_type": "execute_result",
          "data": {
            "text/plain": [
              "<div>\n",
              "<p>a</p><p>b</p><p>c</p>\n",
              "</div>"
            ]
          },
          "metadata": {},
          "execution_count": 7
        }
      ]
    },
    {
      "cell_type": "code",
      "source": [
        "soup.find('ul')"
      ],
      "metadata": {
        "colab": {
          "base_uri": "https://localhost:8080/"
        },
        "id": "CujzMiWpSfPW",
        "outputId": "605c772b-1b4f-40b9-9903-e0eda91f5977"
      },
      "execution_count": null,
      "outputs": [
        {
          "output_type": "execute_result",
          "data": {
            "text/plain": [
              "<ul>\n",
              "<li>삼겹살</li>\n",
              "<li>치킨</li>\n",
              "<li>비빕밥</li>\n",
              "</ul>"
            ]
          },
          "metadata": {},
          "execution_count": 9
        }
      ]
    },
    {
      "cell_type": "markdown",
      "source": [
        "* find_all() 조건에 맞는 모든 태그를 리스트 형태로 반환"
      ],
      "metadata": {
        "id": "i2qQ38LSSuyr"
      }
    },
    {
      "cell_type": "code",
      "source": [
        "all_ps = soup.find_all('p')"
      ],
      "metadata": {
        "id": "6nknrgoCSrIJ"
      },
      "execution_count": null,
      "outputs": []
    },
    {
      "cell_type": "code",
      "source": [
        "all_ps"
      ],
      "metadata": {
        "colab": {
          "base_uri": "https://localhost:8080/"
        },
        "id": "cNxU6WJNS-CQ",
        "outputId": "aafab345-243c-423a-d566-f27f0998997c"
      },
      "execution_count": null,
      "outputs": [
        {
          "output_type": "execute_result",
          "data": {
            "text/plain": [
              "[<p>a</p>,\n",
              " <p>b</p>,\n",
              " <p>c</p>,\n",
              " <p>X</p>,\n",
              " <p>Y</p>,\n",
              " <p>Z</p>,\n",
              " <p>1</p>,\n",
              " <p>2</p>,\n",
              " <p>3</p>,\n",
              " <p>This is a paragraph.</p>]"
            ]
          },
          "metadata": {},
          "execution_count": 11
        }
      ]
    },
    {
      "cell_type": "code",
      "source": [
        "len(all_ps)"
      ],
      "metadata": {
        "colab": {
          "base_uri": "https://localhost:8080/"
        },
        "id": "nr4lF4gfTAC_",
        "outputId": "18c96982-43c4-4eab-ff85-98a4ad309a09"
      },
      "execution_count": null,
      "outputs": [
        {
          "output_type": "execute_result",
          "data": {
            "text/plain": [
              "10"
            ]
          },
          "metadata": {},
          "execution_count": 12
        }
      ]
    },
    {
      "cell_type": "code",
      "source": [
        "divs = soup.find_all('div')\n",
        "divs"
      ],
      "metadata": {
        "colab": {
          "base_uri": "https://localhost:8080/"
        },
        "id": "4ev-BD4dTOcs",
        "outputId": "24870cf1-cc16-4055-b801-5ff69605eef7"
      },
      "execution_count": null,
      "outputs": [
        {
          "output_type": "execute_result",
          "data": {
            "text/plain": [
              "[<div>\n",
              " <p>a</p><p>b</p><p>c</p>\n",
              " </div>, <div class=\"ex_class sample\">\n",
              " <p>X</p><p>Y</p><p>Z</p>\n",
              " </div>, <div id=\"ex_id\">\n",
              " <p>1</p><p>2</p><p>3</p>\n",
              " </div>]"
            ]
          },
          "metadata": {},
          "execution_count": 13
        }
      ]
    },
    {
      "cell_type": "code",
      "source": [
        "divs[1].find_all('p')"
      ],
      "metadata": {
        "colab": {
          "base_uri": "https://localhost:8080/"
        },
        "id": "z-seu5X-TRvF",
        "outputId": "147b2809-f635-43e6-e7da-98efe81f34a6"
      },
      "execution_count": null,
      "outputs": [
        {
          "output_type": "execute_result",
          "data": {
            "text/plain": [
              "[<p>X</p>, <p>Y</p>, <p>Z</p>]"
            ]
          },
          "metadata": {},
          "execution_count": 15
        }
      ]
    },
    {
      "cell_type": "markdown",
      "source": [
        "* select_one() : CSS selector로 하나의 노드만 찾는 메소드"
      ],
      "metadata": {
        "id": "XK-DOXhDTxJb"
      }
    },
    {
      "cell_type": "code",
      "source": [
        "#tag 이름\n",
        "soup.select_one('div')"
      ],
      "metadata": {
        "colab": {
          "base_uri": "https://localhost:8080/"
        },
        "id": "GSBnKMSGTfAL",
        "outputId": "85cb8d46-891a-437e-c191-a40b53274974"
      },
      "execution_count": null,
      "outputs": [
        {
          "output_type": "execute_result",
          "data": {
            "text/plain": [
              "<div>\n",
              "<p>a</p><p>b</p><p>c</p>\n",
              "</div>"
            ]
          },
          "metadata": {},
          "execution_count": 16
        }
      ]
    },
    {
      "cell_type": "code",
      "source": [
        "# class 이름 : 클래스 이름 앞에 .을 붙임\n",
        "# soup.select_one('a.a')\n",
        "soup.select_one('.a')"
      ],
      "metadata": {
        "colab": {
          "base_uri": "https://localhost:8080/"
        },
        "id": "zOwmJyn_ULIv",
        "outputId": "3998a793-ed9f-4bf4-9f9c-dba3177b6361"
      },
      "execution_count": null,
      "outputs": [
        {
          "output_type": "execute_result",
          "data": {
            "text/plain": [
              "<a class=\"a sample\" href=\"www.naver.com\">네이버</a>"
            ]
          },
          "metadata": {},
          "execution_count": 17
        }
      ]
    },
    {
      "cell_type": "code",
      "source": [
        "# id 이름 : id 이름 앞에 #을 붙임\n",
        "#soup.select_one('div#ex_id') #tag 이름 #id 이름\n",
        "soup.select_one('#ex_id')"
      ],
      "metadata": {
        "colab": {
          "base_uri": "https://localhost:8080/"
        },
        "id": "p7LguDuRUmln",
        "outputId": "ce925624-e1de-4b9f-a406-ddecbe34d68b"
      },
      "execution_count": null,
      "outputs": [
        {
          "output_type": "execute_result",
          "data": {
            "text/plain": [
              "<div id=\"ex_id\">\n",
              "<p>1</p><p>2</p><p>3</p>\n",
              "</div>"
            ]
          },
          "metadata": {},
          "execution_count": 18
        }
      ]
    },
    {
      "cell_type": "code",
      "source": [
        "#여러개의 클래스 이름\n",
        "soup.select_one('.ex_class.sample')"
      ],
      "metadata": {
        "colab": {
          "base_uri": "https://localhost:8080/"
        },
        "id": "_IUzcq-zVFem",
        "outputId": "29b125a1-6046-4154-8063-bde8458fac4f"
      },
      "execution_count": null,
      "outputs": [
        {
          "output_type": "execute_result",
          "data": {
            "text/plain": [
              "<div class=\"ex_class sample\">\n",
              "<p>X</p><p>Y</p><p>Z</p>\n",
              "</div>"
            ]
          },
          "metadata": {},
          "execution_count": 19
        }
      ]
    },
    {
      "cell_type": "markdown",
      "source": [
        "* select():CSS selector로 모든 노드를 찾아 리스트로 반환"
      ],
      "metadata": {
        "id": "pR-ZR-blVms3"
      }
    },
    {
      "cell_type": "code",
      "source": [
        "soup.select('.sample')"
      ],
      "metadata": {
        "colab": {
          "base_uri": "https://localhost:8080/"
        },
        "id": "Dsfmlx-gVlsx",
        "outputId": "69303e1c-e71c-4af9-9c04-5c2c7824479e"
      },
      "execution_count": null,
      "outputs": [
        {
          "output_type": "execute_result",
          "data": {
            "text/plain": [
              "[<div class=\"ex_class sample\">\n",
              " <p>X</p><p>Y</p><p>Z</p>\n",
              " </div>, <a class=\"a sample\" href=\"www.naver.com\">네이버</a>]"
            ]
          },
          "metadata": {},
          "execution_count": 20
        }
      ]
    },
    {
      "cell_type": "code",
      "source": [
        "soup.select(\"#ex_id\")"
      ],
      "metadata": {
        "colab": {
          "base_uri": "https://localhost:8080/"
        },
        "id": "TyH48M44VrkS",
        "outputId": "5815be82-f8b1-4a96-ae44-c54836308008"
      },
      "execution_count": null,
      "outputs": [
        {
          "output_type": "execute_result",
          "data": {
            "text/plain": [
              "[<div id=\"ex_id\">\n",
              " <p>1</p><p>2</p><p>3</p>\n",
              " </div>]"
            ]
          },
          "metadata": {},
          "execution_count": 21
        }
      ]
    },
    {
      "cell_type": "markdown",
      "source": [
        "* 결과 값 가져오기"
      ],
      "metadata": {
        "id": "2AtaK1kOWArX"
      }
    },
    {
      "cell_type": "code",
      "source": [
        "atag = soup.find('a')\n",
        "atag"
      ],
      "metadata": {
        "colab": {
          "base_uri": "https://localhost:8080/"
        },
        "id": "g5We9AtYV8lk",
        "outputId": "92807800-b9bc-4b06-e046-3d95a4401910"
      },
      "execution_count": null,
      "outputs": [
        {
          "output_type": "execute_result",
          "data": {
            "text/plain": [
              "<a class=\"a sample\" href=\"www.naver.com\">네이버</a>"
            ]
          },
          "metadata": {},
          "execution_count": 22
        }
      ]
    },
    {
      "cell_type": "code",
      "source": [
        "atag.get_text()"
      ],
      "metadata": {
        "colab": {
          "base_uri": "https://localhost:8080/",
          "height": 35
        },
        "id": "XOQR1hhsWEAZ",
        "outputId": "6773287b-8cb4-411b-9a62-add3c4502e71"
      },
      "execution_count": null,
      "outputs": [
        {
          "output_type": "execute_result",
          "data": {
            "text/plain": [
              "'네이버'"
            ],
            "application/vnd.google.colaboratory.intrinsic+json": {
              "type": "string"
            }
          },
          "metadata": {},
          "execution_count": 23
        }
      ]
    },
    {
      "cell_type": "code",
      "source": [
        "atag.string"
      ],
      "metadata": {
        "colab": {
          "base_uri": "https://localhost:8080/",
          "height": 35
        },
        "id": "yM0oF9JDWRtC",
        "outputId": "18e2e66d-0d73-4596-fb2b-011750fd8bd1"
      },
      "execution_count": null,
      "outputs": [
        {
          "output_type": "execute_result",
          "data": {
            "text/plain": [
              "'네이버'"
            ],
            "application/vnd.google.colaboratory.intrinsic+json": {
              "type": "string"
            }
          },
          "metadata": {},
          "execution_count": 24
        }
      ]
    },
    {
      "cell_type": "code",
      "source": [
        "#속성값 가져오기\n",
        "atag['href']"
      ],
      "metadata": {
        "colab": {
          "base_uri": "https://localhost:8080/",
          "height": 35
        },
        "id": "tTMJuOKRWS-S",
        "outputId": "e4407af3-74c1-4de5-bc96-fbb15aac6a6a"
      },
      "execution_count": null,
      "outputs": [
        {
          "output_type": "execute_result",
          "data": {
            "text/plain": [
              "'www.naver.com'"
            ],
            "application/vnd.google.colaboratory.intrinsic+json": {
              "type": "string"
            }
          },
          "metadata": {},
          "execution_count": 25
        }
      ]
    },
    {
      "cell_type": "code",
      "source": [
        "lis = soup.find('ul').find_all('li')\n",
        "lis"
      ],
      "metadata": {
        "colab": {
          "base_uri": "https://localhost:8080/"
        },
        "id": "ho3ZZn5TWerW",
        "outputId": "6e857c9f-91a9-40cb-f770-9316773a62fd"
      },
      "execution_count": null,
      "outputs": [
        {
          "output_type": "execute_result",
          "data": {
            "text/plain": [
              "[<li>삼겹살</li>, <li>치킨</li>, <li>비빕밥</li>]"
            ]
          },
          "metadata": {},
          "execution_count": 28
        }
      ]
    },
    {
      "cell_type": "code",
      "source": [
        "for li in lis:\n",
        "  print(li.get_text())"
      ],
      "metadata": {
        "colab": {
          "base_uri": "https://localhost:8080/"
        },
        "id": "zw73JKW8WqpN",
        "outputId": "9a6c25c9-6e13-4da0-f954-b010ab759ae0"
      },
      "execution_count": null,
      "outputs": [
        {
          "output_type": "stream",
          "name": "stdout",
          "text": [
            "삼겹살\n",
            "치킨\n",
            "비빕밥\n"
          ]
        }
      ]
    },
    {
      "cell_type": "code",
      "source": [
        "menu = []\n",
        "for li in lis:\n",
        "  menu.append(li.get_text())\n",
        "menu"
      ],
      "metadata": {
        "colab": {
          "base_uri": "https://localhost:8080/"
        },
        "id": "hVpECjo8XRHZ",
        "outputId": "d022ac2a-ef3e-42f1-a8d1-37080a0ca33f"
      },
      "execution_count": null,
      "outputs": [
        {
          "output_type": "execute_result",
          "data": {
            "text/plain": [
              "['삼겹살', '치킨', '비빕밥']"
            ]
          },
          "metadata": {},
          "execution_count": 30
        }
      ]
    },
    {
      "cell_type": "code",
      "source": [
        "trs = soup.find('table').find_all('tr')\n",
        "for tr in trs:\n",
        "  tds = tr.find_all('td')\n",
        "  for td in tds:\n",
        "    print(td.get_text(), end=' ')\n",
        "  print()"
      ],
      "metadata": {
        "colab": {
          "base_uri": "https://localhost:8080/"
        },
        "id": "pBLGQxD-XaV1",
        "outputId": "871eff05-9217-472f-fb8c-1c6deb767c34"
      },
      "execution_count": null,
      "outputs": [
        {
          "output_type": "stream",
          "name": "stdout",
          "text": [
            "A B C \n",
            "x y z \n"
          ]
        }
      ]
    }
  ]
}